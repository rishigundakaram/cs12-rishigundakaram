{
 "cells": [
  {
   "cell_type": "markdown",
   "metadata": {},
   "source": [
    "# Lab 0: Introduction\n",
    "\n",
    "This lab is mainly for setup and assesses if you are prepared for CS 12: TensorFlow."
   ]
  },
  {
   "cell_type": "markdown",
   "metadata": {},
   "source": [
    "## Section 0: Setup & Git Basics\n",
    "Read (and do) the setup as instructed on the class webpage:\n",
    "http://archie.caltech.edu/setup.html.\n",
    "\n",
    "Important things:\n",
    "- Make sure to **duplicate** the repository, do not **fork** it.\n",
    "- If you have already done this, reread the setup page and ensure everything works. (Also check that your GitHub repo is not a fork please)\n",
    "- It is very important that you give the instructors access to your repo. We cannot grade if you do not do this.\n",
    "  - Our usernames are `Archiecool4`, `njasi`, and `ilyasher`.\n",
    "  \n",
    "Now make and push a text file in the `lab_0_introduction` folder with a fun message for us.\n",
    "- Make sure that this file is added in its own commit.\n",
    "- Either use command line instructions (`git add`, `git commit`, `git push`) or use a visual git interface. (GitHub desktop, VSCode source control, etc)\n",
    "  - Do not upload the file using the interface on github.com."
   ]
  },
  {
   "cell_type": "markdown",
   "metadata": {},
   "source": [
    "## Section 1: Formatting & Style\n",
    "\n",
    "Oh no! Ben Bitfiddle hasn't written any Python code since CS 1! Help him rewrite the functions below into something reasonable."
   ]
  },
  {
   "cell_type": "code",
   "execution_count": 1,
   "metadata": {},
   "outputs": [],
   "source": [
    "# Import essential libraries\n",
    "import random\n",
    "import string\n",
    "import inspect\n",
    "import re"
   ]
  },
  {
   "cell_type": "code",
   "execution_count": 3,
   "metadata": {},
   "outputs": [],
   "source": [
    "# Ben Bitfiddle wanted to make a function so he could add numbers together.\n",
    "# TODO: Refactor this code. \n",
    "def add(x,y):\n",
    "    return x + y\n",
    "\n",
    "# Ben has made an interesting choice for his sorting function...\n",
    "# TODO: Clean up the spacing/formatting and refactor.\n",
    "def bogosort(array):\n",
    "    return sorted(array)\n",
    "   \n",
    "# Mr Bitfiddle wanted to make an array ranging from 1 to 13.\n",
    "# TODO: Isn't there an easy way to do this in Python...?\n",
    "def make_data():\n",
    "    return [i for i in range(1,14)]\n",
    "  \n",
    "# Ben was tired of seeing Camelcasing in Python so he wrote a helpful function.\n",
    "# But wait, don't his variables look weird...?\n",
    "# TODO: Change Camel case names into Snake case.\n",
    "# Brownie points if you can rewrite this in one line. Hint: Use regexes.\n",
    "def convertCamelToSnake(sss):\n",
    "    s = \"\"\n",
    "    for c in sss: \n",
    "        if c.isupper(): \n",
    "            s += \"_\" + c.lower()\n",
    "        else: \n",
    "            s += c\n",
    "    return s"
   ]
  },
  {
   "cell_type": "code",
   "execution_count": 4,
   "metadata": {},
   "outputs": [
    {
     "name": "stdout",
     "output_type": "stream",
     "text": [
      "1 + 5 = 6\n",
      "Oh boy it's sorted:\n",
      "\t[1, 2, 3, 4, 5, 6, 7, 8, 9]\n",
      "Data!:\n",
      "\t[1, 2, 3, 4, 5, 6, 7, 8, 9, 10, 11, 12, 13]\n",
      "Hmm wait...\n",
      "\tdef convert_camel_to_snake(sss):\n",
      "\t    s = \"\"\n",
      "\t    for c in sss: \n",
      "\t        if c.isupper(): \n",
      "\t            s += \"_\" + c.lower()\n",
      "\t        else: \n",
      "\t            s += c\n",
      "\t    return s\n",
      "\t\n"
     ]
    }
   ],
   "source": [
    "# NOTE: Just to see the output; no work to do here.\n",
    "\n",
    "print(\"1 + 5 =\", add(1, 5))\n",
    "\n",
    "print(\"Oh boy it's sorted:\\n\\t\", bogosort([2, 4, 6, 8, 9, 7, 5, 3, 1]), sep=\"\")\n",
    "\n",
    "print(\"Data!:\\n\\t\", make_data(), sep=\"\")\n",
    "\n",
    "print(\"Hmm wait...\\n\", \"\\t\" + convertCamelToSnake(inspect.getsource(convertCamelToSnake)).replace(\"\\n\", \"\\n\\t\"), sep=\"\")"
   ]
  },
  {
   "cell_type": "markdown",
   "metadata": {},
   "source": [
    "## Section 2: Documentation Scavenger Hunt\n",
    "\n",
    "Reading documentation will be very helpful if not essential to doing well in the class. \n",
    "\n",
    "### 2.1: TensorFlow Docs\n",
    "For TensorFlow, documentation can be found at https://www.tensorflow.org/api_docs/python. Do the following in comments below.\n",
    "\n",
    "- Find the following functions in the API and describe their use (one short sentence is good).\n",
    "  - `tf.math.erf`\n",
    "  - `tf.print`\n",
    "  - `tf.nn.weighted_cross_entropy_with_logits`\n",
    "  \n",
    "- Find functions that do the following (you don't need to use them just give the name):\n",
    "  - Flip an image horizontally (left to right).\n",
    "  - Fast Fourier transform.\n",
    "  - Casts a tensor to a new type.\n",
    "\n",
    "- List all of the types used in TensorFlow (`tf.dtypes`)."
   ]
  },
  {
   "cell_type": "code",
   "execution_count": 11,
   "metadata": {},
   "outputs": [
    {
     "name": "stdout",
     "output_type": "stream",
     "text": [
      "['DType', 'QUANTIZED_DTYPES', '__builtins__', '__cached__', '__doc__', '__file__', '__loader__', '__name__', '__package__', '__path__', '__spec__', '_sys', 'as_dtype', 'bfloat16', 'bool', 'cast', 'complex', 'complex128', 'complex64', 'double', 'float16', 'float32', 'float64', 'half', 'int16', 'int32', 'int64', 'int8', 'qint16', 'qint32', 'qint8', 'quint16', 'quint8', 'resource', 'saturate_cast', 'string', 'uint16', 'uint32', 'uint64', 'uint8', 'variant']\n"
     ]
    }
   ],
   "source": [
    "# Describe the functions:\n",
    "\"\"\"\n",
    "tf.math.erf: Computes the Gauss error function of a Tensor\n",
    "\n",
    "tf.print: Prints specified inputs to a desired output stream\n",
    "\n",
    "tf.nn.weighted_cross_entropy_with_logits: Computes the weighted cross entropy given labels, logits, \n",
    "and weight\n",
    "\"\"\"\n",
    "# Find the functions:\n",
    "\"\"\"\n",
    "Flip an image horizontally (left to right) => tf.image.flip_left_right\n",
    "Fast Fourier transform. => tf.signal.fft\n",
    "Casts a tensor to a new type. => tf.cast\n",
    "\n",
    "\"\"\"\n",
    "# Example: Returns x + y element-wise. => `tf.math.add`\n",
    "\n",
    "\n",
    "\n",
    "# List the types:\n",
    "\"\"\"\n",
    "'QUANTIZED_DTYPES', \n",
    "'bfloat16', 'bool', 'cast', 'complex', 'complex128', 'complex64', 'double', \n",
    "'float16', 'float32', 'float64', 'half', 'int16', 'int32', 'int64', 'int8', 'qint16', \n",
    "'qint32', 'qint8', 'quint16', 'quint8', 'resource', 'saturate_cast', 'string', 'uint16', \n",
    "'uint32', 'uint64', 'uint8', 'variant'\n",
    "\"\"\"\n"
   ]
  },
  {
   "cell_type": "code",
   "execution_count": null,
   "metadata": {},
   "outputs": [],
   "source": []
  },
  {
   "cell_type": "markdown",
   "metadata": {},
   "source": [
    "### 2.2: Python Docs\n",
    "The actual docs are here: https://docs.python.org/3/, but you may find this more useful: https://python-reference.readthedocs.io/.\n",
    "\n",
    "- Explain what a list comprehension is, and make one to list the first 10 squares.\n",
    "- Make a class called `ComplexNum` which can store the value of a complex number. \n",
    "  - Implement `__add__`, `__mul__`, and `__str__`."
   ]
  },
  {
   "cell_type": "code",
   "execution_count": 12,
   "metadata": {},
   "outputs": [
    {
     "name": "stdout",
     "output_type": "stream",
     "text": [
      "[1, 4, 9, 16, 25, 36, 49, 64, 81, 100]\n"
     ]
    }
   ],
   "source": [
    "# List comprehension allows for a compact and readable way to perform operations on every \n",
    "# element of a list\n",
    "\n",
    "# TODO: Make a comprehension for the first 10 squares\n",
    "sq_lst = [i**2 for i in range(1,11)]\n",
    "print(sq_lst)"
   ]
  },
  {
   "cell_type": "code",
   "execution_count": 23,
   "metadata": {},
   "outputs": [
    {
     "name": "stdout",
     "output_type": "stream",
     "text": [
      "(-17+7j)\n",
      "(-17+7j)\n"
     ]
    }
   ],
   "source": [
    "# TODO: Make the `ComplexNum` class\n",
    "class ComplexNum: \n",
    "    def __init__(self, a, b): \n",
    "        self.real = a\n",
    "        self.imag = b\n",
    "        \n",
    "    def __add__(self, num): \n",
    "        return ComplexNum(self.real + num.real, self.imag + num.imag)\n",
    "    \n",
    "    def __mul__(self, num): \n",
    "        new_real = self.real * num.real - self.imag * num.imag\n",
    "        new_imag = (self.imag * num.real + self.real * num.imag)\n",
    "        return ComplexNum(new_real, new_imag)\n",
    "    \n",
    "    def __str__(self): \n",
    "        return f\"({self.real}+{self.imag}j)\"\n",
    "        \n",
    "# Native Python complex numbers \n",
    "a = 2 + 3j\n",
    "b = -2 + 5j\n",
    "print(a * b + a)\n",
    "\n",
    "# Your complex numbers\n",
    "a = ComplexNum(2, 3)\n",
    "b = ComplexNum(-2, 5)\n",
    "print(a*b + a)"
   ]
  },
  {
   "cell_type": "markdown",
   "metadata": {},
   "source": [
    "## Section 3: Tips To Remember \n",
    "- Read the [documentation](https://www.tensorflow.org/api_docs/python/tf) for functions you don't understand.\n",
    "- Read the notes for every lab before starting.\n",
    "  - The lecture notes have useful code to use, just make sure to actually change it so it works for the situation.\n",
    "  - It will be almost impossible to do this class without the notes.\n",
    "- Read all instructions on the assignments carefully. You can easily lose a lot of points if you forget to do something simple **like assigning TensorFlow names to your variables**.\n",
    "- Experiment with hyperparameters if your model does not train well.\n",
    "- Join the discord and check it often _(this is required)_."
   ]
  }
 ],
 "metadata": {
  "kernelspec": {
   "display_name": "Python 3 (ipykernel)",
   "language": "python",
   "name": "python3"
  },
  "language_info": {
   "codemirror_mode": {
    "name": "ipython",
    "version": 3
   },
   "file_extension": ".py",
   "mimetype": "text/x-python",
   "name": "python",
   "nbconvert_exporter": "python",
   "pygments_lexer": "ipython3",
   "version": "3.8.12"
  }
 },
 "nbformat": 4,
 "nbformat_minor": 2
}
